{
 "cells": [
  {
   "cell_type": "code",
   "execution_count": 4,
   "metadata": {},
   "outputs": [],
   "source": [
    "from manim import *\n",
    "\n",
    "config.media_width = \"75%\"\n",
    "config.verbosity = \"WARNING\""
   ]
  },
  {
   "cell_type": "code",
   "execution_count": 5,
   "metadata": {},
   "outputs": [],
   "source": [
    "from scipy.spatial import distance\n",
    "import numpy as np"
   ]
  },
  {
   "cell_type": "markdown",
   "metadata": {},
   "source": [
    "# Distance Metrics Animation"
   ]
  },
  {
   "cell_type": "markdown",
   "metadata": {},
   "source": [
    "## Intro"
   ]
  },
  {
   "cell_type": "code",
   "execution_count": 3,
   "metadata": {},
   "outputs": [],
   "source": [
    "what_is_distance_text = \"\"\"Distance is the length between two things. \n",
    "Usually, we think of distance as a line connecting two points.\n",
    "Instead of A and B, lets add some context and call them Home and School.\n",
    "The distance between Home and School is 2 kilometers. That's the length of the straight line between them.\n",
    "Easiest, the most straight-forward of the distances.\n",
    "However it is not always the best choice. \n",
    "Flying from Home to School is quite unlikely (unfortunately), so we may want to measure the length of the streets.\n",
    "Speaking of flying, going to vacation on the other side of the world involves a flight in not so straight line ether.\n",
    "But back to school. The distance to School is 2 kilometers, also 3 kilometers, and also ten bus stops, or 40 minutes.\n",
    "These are all valid measurements, and which one we choose depends on the task at hand.\"\"\""
   ]
  },
  {
   "cell_type": "markdown",
   "metadata": {},
   "source": []
  },
  {
   "cell_type": "markdown",
   "metadata": {},
   "source": [
    "%%manim -qm Intro\n",
    "\n",
    "\n",
    "class Intro(Scene):\n",
    "\n",
    "    def construct(self):\n",
    "        \n",
    "        # Text utils\n",
    "        def text_generator(text):\n",
    "            for new_line in text.split(\"\\n\"):\n",
    "                yield new_line       \n",
    "\n",
    "        def next_text_line(text_gen, text_obj = None, wait_time = 0):\n",
    "            if text_obj:\n",
    "                self.play(Unwrite(text_obj, reverse = False))\n",
    "\n",
    "            text_obj = Tex(next(text_gen), )\\\n",
    "                .scale(0.9)\\\n",
    "                .shift(DOWN * 3)\n",
    "\n",
    "            self.play(Write(text_obj))\n",
    "            self.wait(wait_time)\n",
    "            \n",
    "            return text_obj\n",
    "\n",
    "\n",
    "        # Title\n",
    "        title = Text(\"What is distance?\")\\\n",
    "            .scale(1.2)\\\n",
    "            .to_edge(UL)\n",
    "        self.play(Write(title))\n",
    " \n",
    "        # Narrative generator         \n",
    "        narrative = text_generator(what_is_distance_text)\n",
    "        \n",
    "\n",
    "        # Points A and B\n",
    "        point_home = Dot(point = [-1, -1, 0])\n",
    "        point_a = Text(\"A\")\\\n",
    "            .next_to(point_home)\\\n",
    "            .shift(LEFT)    \n",
    "        point_school = Dot(point = [3, 2, 0])\n",
    "        point_b = Text(\"B\")\\\n",
    "            .next_to(point_school)\n",
    "        \n",
    "        text = next_text_line(narrative)\n",
    "        self.play(Create(point_home), Create(point_a))\n",
    "        self.play(Create(point_school), Create(point_b))      \n",
    "        \n",
    "\n",
    "\n",
    "\n",
    "        # Straight line A to B\n",
    "        line = Line(start=point_home, end=point_school)\n",
    "\n",
    "        text = next_text_line(narrative, text_obj = text)\n",
    "        self.play(Create(line))\n",
    "\n",
    "           \n",
    "        \n",
    "        # Home and School\n",
    "        home = ImageMobject(\"icons/house.jpg\")\n",
    "        home.height = 0.6\n",
    "        home.next_to(point_home, LEFT)\n",
    "\n",
    "        school = ImageMobject(\"icons/school.jpg\")\n",
    "        school.height = 0.6\n",
    "        school.next_to(point_school)\n",
    "\n",
    "\n",
    "        text = next_text_line(narrative, text_obj = text)\n",
    "        self.play(Uncreate(point_a), Uncreate(point_b))   \n",
    "        self.add(home, school)\n",
    "\n",
    "\n",
    "\n",
    "\n",
    "        # self.play(Unwrite(text, reverse = False))\n",
    "        # text = next_text_line(narrative)\n",
    "\n",
    "        # self.play(Write(text))\n",
    "\n",
    "        # self.wait(3)\n",
    "        # # next_text_line()\n",
    "        # # next_text_line()\n",
    "\n",
    "        self.wait(3)\n",
    "        \n"
   ]
  },
  {
   "cell_type": "markdown",
   "metadata": {},
   "source": []
  }
 ],
 "metadata": {
  "language_info": {
   "name": "python"
  }
 },
 "nbformat": 4,
 "nbformat_minor": 2
}
