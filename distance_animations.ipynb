{
 "cells": [
  {
   "cell_type": "code",
   "execution_count": 1,
   "metadata": {},
   "outputs": [
    {
     "data": {
      "text/html": [
       "<pre style=\"white-space:pre;overflow-x:auto;line-height:normal;font-family:Menlo,'DejaVu Sans Mono',consolas,'Courier New',monospace\">Manim Community <span style=\"color: #008000; text-decoration-color: #008000\">v0.18.0.post0</span>\n",
       "\n",
       "</pre>\n"
      ],
      "text/plain": [
       "Manim Community \u001b[32mv0.\u001b[0m\u001b[32m18.0\u001b[0m\u001b[32m.post0\u001b[0m\n",
       "\n"
      ]
     },
     "metadata": {},
     "output_type": "display_data"
    }
   ],
   "source": [
    "from manim import *\n",
    "\n",
    "config.media_width = \"75%\"\n",
    "config.verbosity = \"WARNING\""
   ]
  },
  {
   "cell_type": "code",
   "execution_count": 2,
   "metadata": {},
   "outputs": [],
   "source": [
    "from scipy.spatial import distance\n",
    "import numpy as np"
   ]
  },
  {
   "cell_type": "markdown",
   "metadata": {},
   "source": [
    "# Distance Metrics Animation"
   ]
  },
  {
   "cell_type": "markdown",
   "metadata": {},
   "source": [
    "## Intro"
   ]
  },
  {
   "cell_type": "code",
   "execution_count": 3,
   "metadata": {},
   "outputs": [],
   "source": [
    "what_is_distance_text = \"\"\"Distance is the length between two things. \n",
    "Usually, we think of distance as a line connecting two points.\n",
    "Instead of A and B, lets add some context and call them Home and School.\n",
    "The distance between Home and School is 2 kilometers. That's the length of the straight line between them.\n",
    "Easiest, the most straight-forward of the distances.\n",
    "However it is not always the best choice. \n",
    "Flying from Home to School is quite unlikely (unfortunately), so we may want to measure the length of the streets.\n",
    "Speaking of flying, going to vacation on the other side of the world involves a flight in not so straight line ether.\n",
    "But back to school. The distance to School is 2 kilometers, also 3 kilometers, and also ten bus stops, or 40 minutes.\n",
    "These are all valid measurements, and which one we choose depends on the task at hand.\"\"\""
   ]
  },
  {
   "cell_type": "code",
   "execution_count": 5,
   "metadata": {},
   "outputs": [
    {
     "name": "stderr",
     "output_type": "stream",
     "text": [
      "                                                                                                                                                                                     \r"
     ]
    },
    {
     "data": {
      "text/html": [
       "<video src=\"media\\jupyter\\Intro@2024-05-15@13-23-07.mp4\" controls autoplay loop style=\"max-width: 75%;\"  >\n",
       "      Your browser does not support the <code>video</code> element.\n",
       "    </video>"
      ],
      "text/plain": [
       "<IPython.core.display.Video object>"
      ]
     },
     "metadata": {},
     "output_type": "display_data"
    }
   ],
   "source": [
    "%%manim -qm Intro\n",
    "\n",
    "\n",
    "class Intro(Scene):\n",
    "\n",
    "    def construct(self):\n",
    "        \n",
    "        # Text utils\n",
    "        def text_generator(text):\n",
    "            for new_line in text.split(\"\\n\"):\n",
    "                yield new_line       \n",
    "\n",
    "        def next_text_line(text_gen, text_obj = None, wait_time = 0):\n",
    "            if text_obj:\n",
    "                self.play(Unwrite(text_obj, reverse = False))\n",
    "\n",
    "            text_obj = Tex(next(text_gen), )\\\n",
    "                .scale(0.8)\\\n",
    "                .shift(DOWN * 3)\n",
    "\n",
    "            self.play(Write(text_obj))\n",
    "            self.wait(wait_time)\n",
    "            \n",
    "            return text_obj\n",
    "\n",
    "\n",
    "        # Title\n",
    "        title = Text(\"What is distance?\")\\\n",
    "            .scale(1.1)\\\n",
    "            .to_edge(UL)\n",
    "        self.play(Write(title))\n",
    " \n",
    "        # Narrative generator         \n",
    "        narrative = text_generator(what_is_distance_text)\n",
    "        \n",
    "\n",
    "        # Points A and B\n",
    "        point_home = Dot(point = [-1, -1, 0])\n",
    "        label_a = Text(\"A\")\\\n",
    "            .next_to(point_home, LEFT)\n",
    "        point_school = Dot(point = [3, 2, 0])\n",
    "        label_b = Text(\"B\")\\\n",
    "            .next_to(point_school)\n",
    "        \n",
    "        text = next_text_line(narrative)\n",
    "        self.play(Create(point_home), Create(label_a))\n",
    "        self.play(Create(point_school), Create(label_b))      \n",
    "        \n",
    "\n",
    "\n",
    "\n",
    "        # Straight line A to B\n",
    "        line = Line(start=point_home, end=point_school)\n",
    "\n",
    "        text = next_text_line(narrative, text_obj = text)\n",
    "        self.play(Create(line))\n",
    "\n",
    "           \n",
    "        \n",
    "        # Home and School\n",
    "        home = ImageMobject(\"icons/house.jpg\")\n",
    "        home.height = 0.6\n",
    "        home.next_to(point_home, LEFT)\n",
    "        home_label = Text(\"Home\")\\\n",
    "            .scale(0.6)\\\n",
    "            .next_to(home, DOWN)\n",
    "\n",
    "        school = ImageMobject(\"icons/school.jpg\")\n",
    "        school.height = 0.6\n",
    "        school.next_to(point_school)\n",
    "        school_label = Text(\"School\")\\\n",
    "            .scale(0.6)\\\n",
    "            .next_to(school, UP)\n",
    "\n",
    "        text = next_text_line(narrative, text_obj = text)\n",
    "        self.play(Uncreate(label_a), Uncreate(label_b))   \n",
    "        self.add(home, school)\n",
    "        self.play(Create(home_label), Create(school_label))\n",
    "\n",
    "\n",
    "        # Brace Home to School\n",
    "\n",
    "        def perpendicular_direction(point_a, point_b):\n",
    "            ax, ay, az = point_a.get_center()\n",
    "            bx, by, az = point_b.get_center()\n",
    "\n",
    "            return [-(ay - by) / (ax - bx), 1, 0]\n",
    "\n",
    "        brace = BraceLabel(line, \"2 km\", brace_direction=perpendicular_direction(point_home, point_school))\n",
    "\n",
    "        text = next_text_line(narrative, text_obj = text)\n",
    "        self.play(Create(brace))\n",
    "\n",
    "\n",
    "\n",
    "\n",
    "\n",
    "\n",
    "\n",
    "\n",
    "\n",
    "        self.wait(3)\n",
    "        \n"
   ]
  },
  {
   "cell_type": "code",
   "execution_count": null,
   "metadata": {},
   "outputs": [],
   "source": []
  }
 ],
 "metadata": {
  "kernelspec": {
   "display_name": "manimenv",
   "language": "python",
   "name": "python3"
  },
  "language_info": {
   "codemirror_mode": {
    "name": "ipython",
    "version": 3
   },
   "file_extension": ".py",
   "mimetype": "text/x-python",
   "name": "python",
   "nbconvert_exporter": "python",
   "pygments_lexer": "ipython3",
   "version": "3.11.9"
  }
 },
 "nbformat": 4,
 "nbformat_minor": 2
}
