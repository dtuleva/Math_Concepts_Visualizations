{
 "cells": [
  {
   "cell_type": "code",
   "execution_count": null,
   "metadata": {},
   "outputs": [],
   "source": [
    "from manim import *\n",
    "\n",
    "config.media_width = \"75%\"\n",
    "config.verbosity = \"WARNING\""
   ]
  },
  {
   "cell_type": "markdown",
   "metadata": {},
   "source": [
    "# Distance Metrics Animation"
   ]
  },
  {
   "cell_type": "code",
   "execution_count": null,
   "metadata": {},
   "outputs": [],
   "source": [
    "%%manim -qm PointMoving\n",
    "\n",
    "\n",
    "class PointMoving(Scene):\n",
    "    def construct(self):\n",
    "\n",
    "        # Coordinate system\n",
    "\n",
    "        axes = Axes(\n",
    "            x_range=[-5, 5, 1],\n",
    "            y_range=[-5, 5, 1],\n",
    "            x_length=10,\n",
    "            # axis_config={\"color\": GREEN},\n",
    "            # x_axis_config={\n",
    "            #     \"numbers_to_include\": np.arange(-10, 10.01, 2),\n",
    "            #     \"numbers_with_elongated_ticks\": np.arange(-10, 10.01, 2),\n",
    "            # },\n",
    "            tips=True,\n",
    "        )\n",
    "\n",
    "\n",
    "        # Dot and dot path\n",
    "        \n",
    "        dot = Dot()\n",
    "        \n",
    "        path_line = Line([0, 0, 0], [1, 2, 0])\n",
    "        # path_circle = Circle(radius=1, color=BLUE)\n",
    "\n",
    "        # Text\n",
    "\n",
    "        label = Text(\"A wild dot appears!\")\n",
    "\n",
    "\n",
    "        # Animation\n",
    "\n",
    "        self.add(axes)\n",
    "        self.wait()\n",
    "        self.play(Create(label))\n",
    "        self.play(Create(dot))\n",
    "        \n",
    "        self.play(MoveAlongPath(dot, path_line), run_time=2, rate_func=linear)\n",
    "        self.play(Rotating(dot, about_point=[2, 0, 0]), run_time=1.5)\n",
    "        self.wait()\n",
    "\n"
   ]
  },
  {
   "cell_type": "code",
   "execution_count": null,
   "metadata": {},
   "outputs": [],
   "source": []
  }
 ],
 "metadata": {
  "language_info": {
   "name": "python"
  }
 },
 "nbformat": 4,
 "nbformat_minor": 2
}
