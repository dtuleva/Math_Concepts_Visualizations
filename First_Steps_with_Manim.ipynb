{
 "cells": [
  {
   "cell_type": "code",
   "execution_count": 2,
   "id": "369aa907-81cc-4bd3-973c-2a8ebb183eaf",
   "metadata": {},
   "outputs": [
    {
     "data": {
      "text/html": [
       "<pre style=\"white-space:pre;overflow-x:auto;line-height:normal;font-family:Menlo,'DejaVu Sans Mono',consolas,'Courier New',monospace\">Manim Community <span style=\"color: #008000; text-decoration-color: #008000\">v0.18.0.post0</span>\n",
       "\n",
       "</pre>\n"
      ],
      "text/plain": [
       "Manim Community \u001b[32mv0.\u001b[0m\u001b[32m18.0\u001b[0m\u001b[32m.post0\u001b[0m\n",
       "\n"
      ]
     },
     "metadata": {},
     "output_type": "display_data"
    }
   ],
   "source": [
    "from manim import *\n",
    "\n",
    "config.media_width = \"75%\"\n",
    "config.verbosity = \"WARNING\""
   ]
  },
  {
   "cell_type": "markdown",
   "id": "8306b59f",
   "metadata": {},
   "source": [
    "# First Steps with Manim\n",
    "\n",
    "\n",
    " + [official jupyter examples repo](https://github.com/ManimCommunity/jupyter_examples.git)\n",
    " + [documentation](https://docs.manim.community/en/stable/)\n",
    "\n"
   ]
  },
  {
   "cell_type": "code",
   "execution_count": 6,
   "id": "6d78c7ef-b22a-442c-aef8-2122ed221c83",
   "metadata": {},
   "outputs": [
    {
     "name": "stderr",
     "output_type": "stream",
     "text": [
      "                                                                                        \r"
     ]
    },
    {
     "data": {
      "text/html": [
       "<video src=\"media\\jupyter\\CircleToSquare@2024-04-30@15-07-08.mp4\" controls autoplay loop style=\"max-width: 75%;\"  >\n",
       "      Your browser does not support the <code>video</code> element.\n",
       "    </video>"
      ],
      "text/plain": [
       "<IPython.core.display.Video object>"
      ]
     },
     "metadata": {},
     "output_type": "display_data"
    }
   ],
   "source": [
    "%%manim -qm CircleToSquare\n",
    "\n",
    "class CircleToSquare(Scene):\n",
    "    def construct(self):\n",
    "        blue_circle = Circle(color=BLUE, fill_opacity=0.5)\n",
    "        green_square = Square(color=GREEN, fill_opacity=0.8)\n",
    "        # Animations\n",
    "        # self.play(Create(blue_circle))\n",
    "        # self.play(FadeIn(blue_circle))\n",
    "        self.play(DrawBorderThenFill(blue_circle))\n",
    "        \n",
    "        self.wait(3)\n",
    "        \n",
    "        # self.play(Transform(blue_circle, green_square))\n",
    "        self.play(FadeOut(blue_circle))\n",
    "        self.wait()"
   ]
  },
  {
   "cell_type": "code",
   "execution_count": 3,
   "id": "5d69d070-e33c-469c-9ce4-38ce28dae33b",
   "metadata": {},
   "outputs": [
    {
     "name": "stderr",
     "output_type": "stream",
     "text": [
      "                                                                                                       \r"
     ]
    },
    {
     "data": {
      "text/html": [
       "<video src=\"media\\jupyter\\HelloCircle@2024-05-02@20-28-46.mp4\" controls autoplay loop style=\"max-width: 75%;\"  >\n",
       "      Your browser does not support the <code>video</code> element.\n",
       "    </video>"
      ],
      "text/plain": [
       "<IPython.core.display.Video object>"
      ]
     },
     "metadata": {},
     "output_type": "display_data"
    }
   ],
   "source": [
    "%%manim -qm HelloCircle\n",
    "\n",
    "class HelloCircle(Scene):\n",
    "    def construct(self):\n",
    "        # blue_circle = Circle(color=BLUE, fill_opacity=0.5)\n",
    "        # We can also create a \"plain\" circle and add the desired attributes via set methods:\n",
    "        circle = Circle()\n",
    "        blue_circle = circle.set_color(BLUE).set_opacity(0.5)\n",
    "        \n",
    "        label = Text(\"A wild circle appears!\")\n",
    "        # Positioning: next_to, shift, to_edge, to_corner, move_to\n",
    "        # label.next_to(blue_circle, DOWN, buff=0.5)\n",
    "        label.shift(UP)\n",
    "\n",
    "        label_bye = Text(\"...And it is gone!\")\n",
    "        label_bye.shift(LEFT)\n",
    "        \n",
    "        # self.play(Create(blue_circle), Write(label)) # Simultaneously\n",
    "        self.play(Create(blue_circle)) # Consecutevly\n",
    "        self.play(Create(label))\n",
    "        \n",
    "        self.wait(3)\n",
    "\n",
    "        blue_circle.set_color(RED).set_opacity(0.7)\n",
    "        self.play(Transform(label, label_bye))\n",
    "        self.play(FadeOut(blue_circle))\n",
    "        \n"
   ]
  },
  {
   "cell_type": "code",
   "execution_count": null,
   "id": "1cb979c3",
   "metadata": {},
   "outputs": [],
   "source": []
  }
 ],
 "metadata": {
  "kernelspec": {
   "display_name": "maniumenv",
   "language": "python",
   "name": "maniumenv"
  },
  "language_info": {
   "codemirror_mode": {
    "name": "ipython",
    "version": 3
   },
   "file_extension": ".py",
   "mimetype": "text/x-python",
   "name": "python",
   "nbconvert_exporter": "python",
   "pygments_lexer": "ipython3",
   "version": "3.11.9"
  }
 },
 "nbformat": 4,
 "nbformat_minor": 5
}
